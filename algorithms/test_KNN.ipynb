{
 "cells": [
  {
   "cell_type": "code",
   "execution_count": 1,
   "id": "db8d6257-f950-4ecb-aa1e-3fc1677f5f87",
   "metadata": {},
   "outputs": [],
   "source": [
    "import pandas as pd\n",
    "data_train = pd.read_csv(\"data_train.csv\", header=0)"
   ]
  },
  {
   "cell_type": "code",
   "execution_count": 2,
   "id": "f28ce46d-949f-4304-8d2b-b9050ff5d45a",
   "metadata": {},
   "outputs": [],
   "source": [
    "#on va ajouter des distances dans le calcul du KNN. On se focalisera pour l'instant sur les distances qui vectorisent les chaînes de caractères à l'échelle de mots, ou à l'échelle des caractères."
   ]
  },
  {
   "cell_type": "code",
   "execution_count": 23,
   "id": "ab4edc59-f216-473a-8309-3c736a477310",
   "metadata": {},
   "outputs": [],
   "source": [
    "from pytextdist.edit_distance import * #distances calculées à l'échelle du caractères\n",
    "from pytextdist.vector_similarity import * #distances calculées en vectorisant les chaînes de caractères.Ici en mots, mais configurable pour des n-grammes.\n",
    "\n",
    "\n",
    "class KNN():\n",
    "    \n",
    "    def __init__(self, data, tweet_a_categoriser, nombre_voisins, distance, vote):\n",
    "        self.data = data\n",
    "        self.tweet_a_categoriser = tweet_a_categoriser\n",
    "        self.nombre_voisins = nombre_voisins\n",
    "        self.distance = distance\n",
    "        self.vote = vote\n",
    "        \n",
    "        \n",
    "    def liste_distance(self):\n",
    "        distances = []\n",
    "        \n",
    "        if self.distance == \"naïve\":\n",
    "            mots_tweet = self.tweet_a_categoriser.split()\n",
    "            nombre_de_mots_tweet = len(mots_tweet)\n",
    "            for autre_tweet in self.data[\"text\"]:\n",
    "                mots_autre_tweet = autre_tweet.split()\n",
    "                nombre_de_mots_autre_tweet = len(mots_autre_tweet)\n",
    "                nombre_total_mots = nombre_de_mots_tweet + nombre_de_mots_autre_tweet\n",
    "\n",
    "                mots_communs = set()\n",
    "                for mot in mots_tweet:\n",
    "                    if mot in mots_autre_tweet:\n",
    "                        mots_communs.add(mot)\n",
    "\n",
    "                nombre_mots_commun = len(mots_communs)\n",
    "                distance_tweet = (nombre_total_mots - nombre_mots_commun)/nombre_total_mots\n",
    "                distances.append(distance_tweet)\n",
    "            return distances\n",
    "        \n",
    "        if self.distance == \"levenshtein\":\n",
    "            for autre_tweet in self.data[\"text\"]:\n",
    "                simi = levenshtein_similarity(self.tweet_a_categoriser,autre_tweet)\n",
    "                distance_tweet = 1 - simi\n",
    "                distances.append(distance_tweet) \n",
    "            return distances\n",
    "        \n",
    "        if self.distance == \"lcs\":\n",
    "            for autre_tweet in self.data[\"text\"]:\n",
    "                simi = lcs_similarity(self.tweet_a_categoriser,autre_tweet)\n",
    "                distance_tweet = 1 - simi\n",
    "                distances.append(distance_tweet)\n",
    "            return distances\n",
    "\n",
    "        if self.distance == \"damerau_levenshtein\":\n",
    "            for autre_tweet in self.data[\"text\"]:\n",
    "                simi = damerau_levenshtein_similarity(self.tweet_a_categoriser,autre_tweet)\n",
    "                distance_tweet = 1 - simi\n",
    "                distances.append(distance_tweet)\n",
    "            return distances\n",
    "        \n",
    "        if self.distance == \"hamming\":\n",
    "            for autre_tweet in self.data[\"text\"]:\n",
    "                simi = hamming_similarity(self.tweet_a_categoriser,autre_tweet)\n",
    "                distance_tweet = 1 - simi\n",
    "                distances.append(distance_tweet)\n",
    "            return distances\n",
    "        \n",
    "        if self.distance == \"jaro\":\n",
    "            for autre_tweet in self.data[\"text\"]:\n",
    "                simi = jaro_similarity(self.tweet_a_categoriser,autre_tweet)\n",
    "                distance_tweet = 1 - simi\n",
    "                distances.append(distance_tweet)\n",
    "            return distances\n",
    "            \n",
    "        if self.distance == \"cosine\":\n",
    "            for autre_tweet in self.data[\"text\"]:\n",
    "                simi = cosine_similarity(self.tweet_a_categoriser,autre_tweet)\n",
    "                distance_tweet = 1 - simi\n",
    "                distances.append(distance_tweet)\n",
    "            return distances\n",
    "        \n",
    "        if self.distance == \"jaccard\":\n",
    "            for autre_tweet in self.data[\"text\"]:\n",
    "                simi = jaccard_similarity(self.tweet_a_categoriser,autre_tweet)\n",
    "                distance_tweet = 1 - simi\n",
    "                distances.append(distance_tweet)\n",
    "            return distances\n",
    "        \n",
    "        if self.distance == \"sorensen_dice\":\n",
    "            for autre_tweet in self.data[\"text\"]:\n",
    "                simi = sorensen_dice_similarity(self.tweet_a_categoriser,autre_tweet)\n",
    "                distance_tweet = 1 - simi\n",
    "                distances.append(distance_tweet)\n",
    "            return distances\n",
    "\n",
    "        if self.distance == \"qgram_dice\":\n",
    "            for autre_tweet in self.data[\"text\"]:\n",
    "                simi = qgram_similarity(self.tweet_a_categoriser,autre_tweet)\n",
    "                distance_tweet = 1 - simi\n",
    "                distances.append(distance_tweet)\n",
    "            return distances\n",
    "        \n",
    "    \n",
    "    def classification(self):\n",
    "        label_et_distance_proches_voisins_croissant = [(x,y) for (x,y) in zip(self.data[\"target\"],self.liste_distance())]\n",
    "        label_et_distance_proches_voisins_croissant.sort(key=lambda x: x[1])\n",
    "        votes = {}\n",
    "        votes[\"4\"] = 0\n",
    "        votes[\"2\"] = 0\n",
    "        votes[\"0\"] = 0\n",
    "            \n",
    "        if self.vote == \"majoritaire\":\n",
    "            for i in range(0,self.nombre_voisins):\n",
    "                if label_et_distance_proches_voisins_croissant[i][0] == 4:\n",
    "                    votes[\"4\"] += 1\n",
    "                elif label_et_distance_proches_voisins_croissant[i][0] == 2:\n",
    "                    votes[\"2\"] += 1\n",
    "                else:\n",
    "                    votes[\"0\"] += 1 \n",
    "            # on sélectionne l'étiquette avec le maximum de votes\n",
    "            label = \"\"\n",
    "            vote_majoritaire = max(votes.values())\n",
    "            for i in votes:\n",
    "                if votes[i] == vote_majoritaire:\n",
    "                    label = i #on prend en compte la dernière étiquette égale au max \n",
    "            return label\n",
    "        \n",
    "        if self.vote == \"pondéré\":\n",
    "            for i in range(0,self.nombre_voisins):\n",
    "                if label_et_distance_proches_voisins_croissant[i][0] == 4:\n",
    "                    votes[\"4\"] += 1/((label_et_distance_proches_voisins_croissant[i][1])**2)\n",
    "                    \n",
    "                elif label_et_distance_proches_voisins_croissant[i][0] == 2:\n",
    "                    votes[\"2\"] += 1/((label_et_distance_proches_voisins_croissant[i][1])**2)\n",
    "                else:\n",
    "                    votes[\"0\"] += 1/((label_et_distance_proches_voisins_croissant[i][1])**2)\n",
    "            # on sélectionne l'étiquette avec le maximum de votes\n",
    "            label = \"\"\n",
    "            vote_majoritaire = max(votes.values())\n",
    "            for i in votes:\n",
    "                if votes[i] == vote_majoritaire:\n",
    "                    label = i #on prend en compte la dernière étiquette égale au max \n",
    "            return label\n",
    "            "
   ]
  },
  {
   "cell_type": "code",
   "execution_count": 17,
   "id": "eff69140-ac69-4e86-ae28-a6cfbaf2601a",
   "metadata": {},
   "outputs": [],
   "source": [
    "KNN = KNN(data_train, \"how can you not love Obama? he makes jokes about himself.\", 10, \"levenshtein\", \"majoritaire\")"
   ]
  },
  {
   "cell_type": "code",
   "execution_count": 12,
   "id": "363ca6e4-d737-4d60-89b0-49ba7e946421",
   "metadata": {},
   "outputs": [
    {
     "data": {
      "text/plain": [
       "'2'"
      ]
     },
     "execution_count": 12,
     "metadata": {},
     "output_type": "execute_result"
    }
   ],
   "source": [
    "KNN.classification()"
   ]
  },
  {
   "cell_type": "code",
   "execution_count": 25,
   "id": "f1eba068-19f3-42e1-bd4d-eec891a815bf",
   "metadata": {},
   "outputs": [],
   "source": [
    "# test avec toutes les distances, sauf hamming qui ne fonctionne que pour des phrases de mêmes longueurs\n",
    "distances = [\"naïve\",\"levenshtein\",\"lcs\",\"damerau_levenshtein\", \"jaro\", \"cosine\",\"jaccard\",\"sorensen_dice\",\"qgram_dice\"]\n",
    "votes = [\"majoritaire\", \"pondéré\"]"
   ]
  },
  {
   "cell_type": "code",
   "execution_count": 30,
   "id": "4c6abe71-f0a9-4004-806d-d3c5cbd65d37",
   "metadata": {},
   "outputs": [],
   "source": [
    "res = {}\n",
    "for d in distances:\n",
    "    res[d] = \"\"\n",
    "    couple = []\n",
    "    for v in votes:\n",
    "        knn = KNN(data_train, \"Fuck this economy. I hate aig and their non loan given asses.\", 10, d , v)\n",
    "        couple.append((v,knn.classification()))\n",
    "    res[d] = couple"
   ]
  },
  {
   "cell_type": "code",
   "execution_count": 31,
   "id": "fa40ced7-803b-41c8-b828-a10f1155132b",
   "metadata": {},
   "outputs": [
    {
     "data": {
      "text/plain": [
       "{'naïve': [('majoritaire', '0'), ('pondéré', '0')],\n",
       " 'levenshtein': [('majoritaire', '0'), ('pondéré', '0')],\n",
       " 'lcs': [('majoritaire', '0'), ('pondéré', '0')],\n",
       " 'damerau_levenshtein': [('majoritaire', '0'), ('pondéré', '0')],\n",
       " 'jaro': [('majoritaire', '0'), ('pondéré', '0')],\n",
       " 'cosine': [('majoritaire', '0'), ('pondéré', '0')],\n",
       " 'jaccard': [('majoritaire', '0'), ('pondéré', '0')],\n",
       " 'sorensen_dice': [('majoritaire', '0'), ('pondéré', '0')],\n",
       " 'qgram_dice': [('majoritaire', '0'), ('pondéré', '0')]}"
      ]
     },
     "execution_count": 31,
     "metadata": {},
     "output_type": "execute_result"
    }
   ],
   "source": [
    "res"
   ]
  },
  {
   "cell_type": "code",
   "execution_count": null,
   "id": "c9a3f14d-42ff-4b6b-9478-ec36e1d49a21",
   "metadata": {},
   "outputs": [],
   "source": []
  }
 ],
 "metadata": {
  "kernelspec": {
   "display_name": "Python 3 (ipykernel)",
   "language": "python",
   "name": "python3"
  },
  "language_info": {
   "codemirror_mode": {
    "name": "ipython",
    "version": 3
   },
   "file_extension": ".py",
   "mimetype": "text/x-python",
   "name": "python",
   "nbconvert_exporter": "python",
   "pygments_lexer": "ipython3",
   "version": "3.9.13"
  }
 },
 "nbformat": 4,
 "nbformat_minor": 5
}
